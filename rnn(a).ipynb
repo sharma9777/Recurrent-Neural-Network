{
 "cells": [
  {
   "cell_type": "code",
   "execution_count": 1,
   "metadata": {},
   "outputs": [],
   "source": [
    "import sys\n",
    "assert sys.version_info >= (3, 5)"
   ]
  },
  {
   "cell_type": "code",
   "execution_count": 2,
   "metadata": {},
   "outputs": [],
   "source": [
    "import sys\n",
    "assert sys.version_info >= (3, 5)"
   ]
  },
  {
   "cell_type": "code",
   "execution_count": 3,
   "metadata": {},
   "outputs": [],
   "source": [
    "try:\n",
    "    # %tensorflow_version only exists in Colab.\n",
    "    %tensorflow_version 2.x\n",
    "    IS_COLAB = True\n",
    "except Exception:\n",
    "    IS_COLAB = False"
   ]
  },
  {
   "cell_type": "code",
   "execution_count": 4,
   "metadata": {},
   "outputs": [],
   "source": [
    "import numpy as np\n",
    "import pandas as pd\n",
    "import os"
   ]
  },
  {
   "cell_type": "code",
   "execution_count": 5,
   "metadata": {},
   "outputs": [],
   "source": [
    "import tensorflow as tf\n",
    "from tensorflow import keras\n",
    "assert tf.__version__ >= \"2.0\"\n"
   ]
  },
  {
   "cell_type": "code",
   "execution_count": 6,
   "metadata": {},
   "outputs": [
    {
     "data": {
      "text/html": [
       "<div>\n",
       "<style scoped>\n",
       "    .dataframe tbody tr th:only-of-type {\n",
       "        vertical-align: middle;\n",
       "    }\n",
       "\n",
       "    .dataframe tbody tr th {\n",
       "        vertical-align: top;\n",
       "    }\n",
       "\n",
       "    .dataframe thead th {\n",
       "        text-align: right;\n",
       "    }\n",
       "</style>\n",
       "<table border=\"1\" class=\"dataframe\">\n",
       "  <thead>\n",
       "    <tr style=\"text-align: right;\">\n",
       "      <th></th>\n",
       "      <th>date</th>\n",
       "      <th>close</th>\n",
       "    </tr>\n",
       "  </thead>\n",
       "  <tbody>\n",
       "    <tr>\n",
       "      <td>0</td>\n",
       "      <td>2018-11-13</td>\n",
       "      <td>1631.17</td>\n",
       "    </tr>\n",
       "    <tr>\n",
       "      <td>1</td>\n",
       "      <td>2018-11-12</td>\n",
       "      <td>1636.85</td>\n",
       "    </tr>\n",
       "    <tr>\n",
       "      <td>2</td>\n",
       "      <td>2018-11-09</td>\n",
       "      <td>1712.43</td>\n",
       "    </tr>\n",
       "    <tr>\n",
       "      <td>3</td>\n",
       "      <td>2018-11-08</td>\n",
       "      <td>1754.91</td>\n",
       "    </tr>\n",
       "    <tr>\n",
       "      <td>4</td>\n",
       "      <td>2018-11-07</td>\n",
       "      <td>1755.49</td>\n",
       "    </tr>\n",
       "  </tbody>\n",
       "</table>\n",
       "</div>"
      ],
      "text/plain": [
       "        date    close\n",
       "0 2018-11-13  1631.17\n",
       "1 2018-11-12  1636.85\n",
       "2 2018-11-09  1712.43\n",
       "3 2018-11-08  1754.91\n",
       "4 2018-11-07  1755.49"
      ]
     },
     "execution_count": 6,
     "metadata": {},
     "output_type": "execute_result"
    }
   ],
   "source": [
    "excel_file = 'train.xlsx'\n",
    "data = pd.read_excel(excel_file)\n",
    "(data.head())"
   ]
  },
  {
   "cell_type": "code",
   "execution_count": 7,
   "metadata": {},
   "outputs": [
    {
     "data": {
      "text/html": [
       "<div>\n",
       "<style scoped>\n",
       "    .dataframe tbody tr th:only-of-type {\n",
       "        vertical-align: middle;\n",
       "    }\n",
       "\n",
       "    .dataframe tbody tr th {\n",
       "        vertical-align: top;\n",
       "    }\n",
       "\n",
       "    .dataframe thead th {\n",
       "        text-align: right;\n",
       "    }\n",
       "</style>\n",
       "<table border=\"1\" class=\"dataframe\">\n",
       "  <thead>\n",
       "    <tr style=\"text-align: right;\">\n",
       "      <th></th>\n",
       "      <th>date</th>\n",
       "      <th>close</th>\n",
       "    </tr>\n",
       "  </thead>\n",
       "  <tbody>\n",
       "    <tr>\n",
       "      <td>1499</td>\n",
       "      <td>2012-11-30</td>\n",
       "      <td>252.0500</td>\n",
       "    </tr>\n",
       "    <tr>\n",
       "      <td>1498</td>\n",
       "      <td>2012-12-03</td>\n",
       "      <td>250.3291</td>\n",
       "    </tr>\n",
       "    <tr>\n",
       "      <td>1497</td>\n",
       "      <td>2012-12-04</td>\n",
       "      <td>252.4881</td>\n",
       "    </tr>\n",
       "    <tr>\n",
       "      <td>1496</td>\n",
       "      <td>2012-12-05</td>\n",
       "      <td>253.9600</td>\n",
       "    </tr>\n",
       "    <tr>\n",
       "      <td>1495</td>\n",
       "      <td>2012-12-06</td>\n",
       "      <td>253.3700</td>\n",
       "    </tr>\n",
       "    <tr>\n",
       "      <td>1494</td>\n",
       "      <td>2012-12-07</td>\n",
       "      <td>253.2681</td>\n",
       "    </tr>\n",
       "    <tr>\n",
       "      <td>1493</td>\n",
       "      <td>2012-12-10</td>\n",
       "      <td>247.7700</td>\n",
       "    </tr>\n",
       "    <tr>\n",
       "      <td>1492</td>\n",
       "      <td>2012-12-11</td>\n",
       "      <td>250.6900</td>\n",
       "    </tr>\n",
       "    <tr>\n",
       "      <td>1491</td>\n",
       "      <td>2012-12-12</td>\n",
       "      <td>251.7600</td>\n",
       "    </tr>\n",
       "    <tr>\n",
       "      <td>1490</td>\n",
       "      <td>2012-12-13</td>\n",
       "      <td>251.2500</td>\n",
       "    </tr>\n",
       "    <tr>\n",
       "      <td>1489</td>\n",
       "      <td>2012-12-14</td>\n",
       "      <td>249.1900</td>\n",
       "    </tr>\n",
       "    <tr>\n",
       "      <td>1488</td>\n",
       "      <td>2012-12-17</td>\n",
       "      <td>253.8600</td>\n",
       "    </tr>\n",
       "  </tbody>\n",
       "</table>\n",
       "</div>"
      ],
      "text/plain": [
       "           date     close\n",
       "1499 2012-11-30  252.0500\n",
       "1498 2012-12-03  250.3291\n",
       "1497 2012-12-04  252.4881\n",
       "1496 2012-12-05  253.9600\n",
       "1495 2012-12-06  253.3700\n",
       "1494 2012-12-07  253.2681\n",
       "1493 2012-12-10  247.7700\n",
       "1492 2012-12-11  250.6900\n",
       "1491 2012-12-12  251.7600\n",
       "1490 2012-12-13  251.2500\n",
       "1489 2012-12-14  249.1900\n",
       "1488 2012-12-17  253.8600"
      ]
     },
     "execution_count": 7,
     "metadata": {},
     "output_type": "execute_result"
    }
   ],
   "source": [
    "data = data.sort_values(by='date')\n",
    "(data.head(12))"
   ]
  },
  {
   "cell_type": "code",
   "execution_count": 8,
   "metadata": {},
   "outputs": [
    {
     "data": {
      "text/html": [
       "<div>\n",
       "<style scoped>\n",
       "    .dataframe tbody tr th:only-of-type {\n",
       "        vertical-align: middle;\n",
       "    }\n",
       "\n",
       "    .dataframe tbody tr th {\n",
       "        vertical-align: top;\n",
       "    }\n",
       "\n",
       "    .dataframe thead th {\n",
       "        text-align: right;\n",
       "    }\n",
       "</style>\n",
       "<table border=\"1\" class=\"dataframe\">\n",
       "  <thead>\n",
       "    <tr style=\"text-align: right;\">\n",
       "      <th></th>\n",
       "      <th>close</th>\n",
       "    </tr>\n",
       "  </thead>\n",
       "  <tbody>\n",
       "    <tr>\n",
       "      <td>1499</td>\n",
       "      <td>252.0500</td>\n",
       "    </tr>\n",
       "    <tr>\n",
       "      <td>1498</td>\n",
       "      <td>250.3291</td>\n",
       "    </tr>\n",
       "    <tr>\n",
       "      <td>1497</td>\n",
       "      <td>252.4881</td>\n",
       "    </tr>\n",
       "    <tr>\n",
       "      <td>1496</td>\n",
       "      <td>253.9600</td>\n",
       "    </tr>\n",
       "    <tr>\n",
       "      <td>1495</td>\n",
       "      <td>253.3700</td>\n",
       "    </tr>\n",
       "    <tr>\n",
       "      <td>...</td>\n",
       "      <td>...</td>\n",
       "    </tr>\n",
       "    <tr>\n",
       "      <td>4</td>\n",
       "      <td>1755.4900</td>\n",
       "    </tr>\n",
       "    <tr>\n",
       "      <td>3</td>\n",
       "      <td>1754.9100</td>\n",
       "    </tr>\n",
       "    <tr>\n",
       "      <td>2</td>\n",
       "      <td>1712.4300</td>\n",
       "    </tr>\n",
       "    <tr>\n",
       "      <td>1</td>\n",
       "      <td>1636.8500</td>\n",
       "    </tr>\n",
       "    <tr>\n",
       "      <td>0</td>\n",
       "      <td>1631.1700</td>\n",
       "    </tr>\n",
       "  </tbody>\n",
       "</table>\n",
       "<p>1500 rows × 1 columns</p>\n",
       "</div>"
      ],
      "text/plain": [
       "          close\n",
       "1499   252.0500\n",
       "1498   250.3291\n",
       "1497   252.4881\n",
       "1496   253.9600\n",
       "1495   253.3700\n",
       "...         ...\n",
       "4     1755.4900\n",
       "3     1754.9100\n",
       "2     1712.4300\n",
       "1     1636.8500\n",
       "0     1631.1700\n",
       "\n",
       "[1500 rows x 1 columns]"
      ]
     },
     "execution_count": 8,
     "metadata": {},
     "output_type": "execute_result"
    }
   ],
   "source": [
    "data.drop(['date'], axis=1)"
   ]
  },
  {
   "cell_type": "code",
   "execution_count": 9,
   "metadata": {},
   "outputs": [],
   "source": [
    "training_set = data.iloc[:,1:2].values"
   ]
  },
  {
   "cell_type": "code",
   "execution_count": 10,
   "metadata": {},
   "outputs": [
    {
     "data": {
      "text/plain": [
       "array([[ 252.05  ],\n",
       "       [ 250.3291],\n",
       "       [ 252.4881],\n",
       "       ...,\n",
       "       [1712.43  ],\n",
       "       [1636.85  ],\n",
       "       [1631.17  ]])"
      ]
     },
     "execution_count": 10,
     "metadata": {},
     "output_type": "execute_result"
    }
   ],
   "source": [
    "training_set"
   ]
  },
  {
   "cell_type": "code",
   "execution_count": 11,
   "metadata": {},
   "outputs": [],
   "source": [
    "from sklearn.preprocessing import MinMaxScaler \n",
    "scaler = MinMaxScaler()\n",
    "scaled_data = scaler.fit_transform(training_set)"
   ]
  },
  {
   "cell_type": "code",
   "execution_count": 28,
   "metadata": {},
   "outputs": [
    {
     "data": {
      "text/plain": [
       "array([[0.00382873],\n",
       "       [0.00286965],\n",
       "       [0.00407289],\n",
       "       ...,\n",
       "       [0.81771469],\n",
       "       [0.77559312],\n",
       "       [0.77242759]])"
      ]
     },
     "execution_count": 28,
     "metadata": {},
     "output_type": "execute_result"
    }
   ],
   "source": [
    "scaled_data"
   ]
  },
  {
   "cell_type": "code",
   "execution_count": 25,
   "metadata": {},
   "outputs": [],
   "source": [
    "X_train = []\n",
    "y_train = []\n",
    "for i in range(11, 1500):\n",
    "    X_train.append(scaled_data[i-11:i,0])\n",
    "    y_train.append(scaled_data[i,0])\n",
    "X_train, y_train = np.array(X_train), np.array(y_train)"
   ]
  },
  {
   "cell_type": "code",
   "execution_count": 26,
   "metadata": {},
   "outputs": [
    {
     "data": {
      "text/plain": [
       "array([0.00483746, 0.00848227, 0.00713916, ..., 0.81771469, 0.77559312,\n",
       "       0.77242759])"
      ]
     },
     "execution_count": 26,
     "metadata": {},
     "output_type": "execute_result"
    }
   ],
   "source": [
    "y_train"
   ]
  },
  {
   "cell_type": "code",
   "execution_count": null,
   "metadata": {},
   "outputs": [],
   "source": []
  },
  {
   "cell_type": "code",
   "execution_count": 14,
   "metadata": {},
   "outputs": [
    {
     "data": {
      "text/plain": [
       "(1489, 11)"
      ]
     },
     "execution_count": 14,
     "metadata": {},
     "output_type": "execute_result"
    }
   ],
   "source": [
    "X_train.shape"
   ]
  },
  {
   "cell_type": "code",
   "execution_count": 15,
   "metadata": {},
   "outputs": [
    {
     "data": {
      "text/plain": [
       "(1489,)"
      ]
     },
     "execution_count": 15,
     "metadata": {},
     "output_type": "execute_result"
    }
   ],
   "source": [
    "y_train.shape\n",
    "#Y = np.expand_dims(Y, axis=1)\n",
    "#Y.shape"
   ]
  },
  {
   "cell_type": "code",
   "execution_count": 16,
   "metadata": {},
   "outputs": [],
   "source": [
    "X_train = np.reshape(X_train, (X_train.shape[0], X_train.shape[1], 1))"
   ]
  },
  {
   "cell_type": "code",
   "execution_count": 17,
   "metadata": {},
   "outputs": [
    {
     "data": {
      "text/plain": [
       "(1489, 11, 1)"
      ]
     },
     "execution_count": 17,
     "metadata": {},
     "output_type": "execute_result"
    }
   ],
   "source": [
    "X_train.shape"
   ]
  },
  {
   "cell_type": "code",
   "execution_count": 18,
   "metadata": {},
   "outputs": [
    {
     "name": "stderr",
     "output_type": "stream",
     "text": [
      "Using TensorFlow backend.\n"
     ]
    }
   ],
   "source": [
    "from keras.models import Sequential\n",
    "from keras.layers import Dense\n",
    "from keras.layers import LSTM\n",
    "from keras.layers import Dropout"
   ]
  },
  {
   "cell_type": "code",
   "execution_count": 19,
   "metadata": {},
   "outputs": [],
   "source": [
    "model = Sequential()"
   ]
  },
  {
   "cell_type": "code",
   "execution_count": 20,
   "metadata": {},
   "outputs": [
    {
     "name": "stdout",
     "output_type": "stream",
     "text": [
      "Model: \"sequential_1\"\n",
      "_________________________________________________________________\n",
      "Layer (type)                 Output Shape              Param #   \n",
      "=================================================================\n",
      "lstm_1 (LSTM)                (None, 11, 50)            10400     \n",
      "_________________________________________________________________\n",
      "dropout_1 (Dropout)          (None, 11, 50)            0         \n",
      "_________________________________________________________________\n",
      "lstm_2 (LSTM)                (None, 11, 50)            20200     \n",
      "_________________________________________________________________\n",
      "dropout_2 (Dropout)          (None, 11, 50)            0         \n",
      "_________________________________________________________________\n",
      "lstm_3 (LSTM)                (None, 11, 50)            20200     \n",
      "_________________________________________________________________\n",
      "dropout_3 (Dropout)          (None, 11, 50)            0         \n",
      "_________________________________________________________________\n",
      "lstm_4 (LSTM)                (None, 50)                20200     \n",
      "_________________________________________________________________\n",
      "dropout_4 (Dropout)          (None, 50)                0         \n",
      "_________________________________________________________________\n",
      "dense_1 (Dense)              (None, 1)                 51        \n",
      "=================================================================\n",
      "Total params: 71,051\n",
      "Trainable params: 71,051\n",
      "Non-trainable params: 0\n",
      "_________________________________________________________________\n"
     ]
    }
   ],
   "source": [
    "\n",
    "model.add(LSTM(units=50, return_sequences= True, input_shape=(X_train.shape[1],1)))\n",
    "model.add(Dropout(0.2))\n",
    "model.add(LSTM(units=50, return_sequences=True))\n",
    "model.add(Dropout(0.2))\n",
    "model.add(LSTM(units=50, return_sequences=True))\n",
    "model.add(Dropout(0.2))\n",
    "model.add(LSTM(units = 50))\n",
    "model.add(Dropout(0.2))\n",
    "model.add(Dense(units=1))\n",
    "model.summary()"
   ]
  },
  {
   "cell_type": "code",
   "execution_count": 21,
   "metadata": {},
   "outputs": [],
   "source": [
    "model.compile(optimizer='adam', loss='mean_squared_error')"
   ]
  },
  {
   "cell_type": "code",
   "execution_count": 22,
   "metadata": {},
   "outputs": [
    {
     "name": "stdout",
     "output_type": "stream",
     "text": [
      "Epoch 1/20\n",
      "1489/1489 [==============================] - 12s 8ms/step - loss: 0.0209\n",
      "Epoch 2/20\n",
      "1489/1489 [==============================] - 5s 3ms/step - loss: 0.0028\n",
      "Epoch 3/20\n",
      "1489/1489 [==============================] - 4s 3ms/step - loss: 0.0019\n",
      "Epoch 4/20\n",
      "1489/1489 [==============================] - 4s 2ms/step - loss: 0.0019\n",
      "Epoch 5/20\n",
      "1489/1489 [==============================] - 4s 2ms/step - loss: 0.0017\n",
      "Epoch 6/20\n",
      "1489/1489 [==============================] - 4s 2ms/step - loss: 0.0017A: 1s - loss: 0 - ETA: 1s - ETA: 0s - l\n",
      "Epoch 7/20\n",
      "1489/1489 [==============================] - 4s 2ms/step - loss: 0.0015\n",
      "Epoch 8/20\n",
      "1489/1489 [==============================] - 4s 3ms/step - loss: 0.0014\n",
      "Epoch 9/20\n",
      "1489/1489 [==============================] - 4s 3ms/step - loss: 0.0015\n",
      "Epoch 10/20\n",
      "1489/1489 [==============================] - 4s 3ms/step - loss: 0.0015\n",
      "Epoch 11/20\n",
      "1489/1489 [==============================] - 4s 2ms/step - loss: 0.0019\n",
      "Epoch 12/20\n",
      "1489/1489 [==============================] - 4s 3ms/step - loss: 0.0016\n",
      "Epoch 13/20\n",
      "1489/1489 [==============================] - 4s 2ms/step - loss: 0.0017A: 0s - loss:\n",
      "Epoch 14/20\n",
      "1489/1489 [==============================] - 4s 2ms/step - loss: 0.0014\n",
      "Epoch 15/20\n",
      "1489/1489 [==============================] - 4s 2ms/step - loss: 0.0016A: 0\n",
      "Epoch 16/20\n",
      "1489/1489 [==============================] - 4s 2ms/step - loss: 0.0013A: 0s - loss:\n",
      "Epoch 17/20\n",
      "1489/1489 [==============================] - 4s 2ms/step - loss: 0.0015\n",
      "Epoch 18/20\n",
      "1489/1489 [==============================] - 4s 2ms/step - loss: 0.0012\n",
      "Epoch 19/20\n",
      "1489/1489 [==============================] - 4s 2ms/step - loss: 0.0014A: 0s\n",
      "Epoch 20/20\n",
      "1489/1489 [==============================] - 4s 2ms/step - loss: 0.0013A: 0s - los\n"
     ]
    },
    {
     "data": {
      "text/plain": [
       "<keras.callbacks.callbacks.History at 0x291abbec948>"
      ]
     },
     "execution_count": 22,
     "metadata": {},
     "output_type": "execute_result"
    }
   ],
   "source": [
    "model.fit(X_train, y_train, epochs=20, batch_size=25)"
   ]
  },
  {
   "cell_type": "code",
   "execution_count": 23,
   "metadata": {},
   "outputs": [
    {
     "name": "stdout",
     "output_type": "stream",
     "text": [
      "1489/1489 [==============================] - 2s 1ms/step\n"
     ]
    },
    {
     "data": {
      "text/plain": [
       "0.0004020309193926701"
      ]
     },
     "execution_count": 23,
     "metadata": {},
     "output_type": "execute_result"
    }
   ],
   "source": [
    "model.evaluate(X_train, y_train)"
   ]
  },
  {
   "cell_type": "code",
   "execution_count": 17,
   "metadata": {},
   "outputs": [
    {
     "data": {
      "text/html": [
       "<div>\n",
       "<style scoped>\n",
       "    .dataframe tbody tr th:only-of-type {\n",
       "        vertical-align: middle;\n",
       "    }\n",
       "\n",
       "    .dataframe tbody tr th {\n",
       "        vertical-align: top;\n",
       "    }\n",
       "\n",
       "    .dataframe thead th {\n",
       "        text-align: right;\n",
       "    }\n",
       "</style>\n",
       "<table border=\"1\" class=\"dataframe\">\n",
       "  <thead>\n",
       "    <tr style=\"text-align: right;\">\n",
       "      <th></th>\n",
       "      <th>date</th>\n",
       "      <th>close</th>\n",
       "    </tr>\n",
       "  </thead>\n",
       "  <tbody>\n",
       "    <tr>\n",
       "      <td>0</td>\n",
       "      <td>2019-11-12</td>\n",
       "      <td>1780.10</td>\n",
       "    </tr>\n",
       "    <tr>\n",
       "      <td>1</td>\n",
       "      <td>2019-11-11</td>\n",
       "      <td>1771.65</td>\n",
       "    </tr>\n",
       "    <tr>\n",
       "      <td>2</td>\n",
       "      <td>2019-11-08</td>\n",
       "      <td>1785.88</td>\n",
       "    </tr>\n",
       "    <tr>\n",
       "      <td>3</td>\n",
       "      <td>2019-11-07</td>\n",
       "      <td>1788.20</td>\n",
       "    </tr>\n",
       "    <tr>\n",
       "      <td>4</td>\n",
       "      <td>2019-11-06</td>\n",
       "      <td>1795.77</td>\n",
       "    </tr>\n",
       "  </tbody>\n",
       "</table>\n",
       "</div>"
      ],
      "text/plain": [
       "        date    close\n",
       "0 2019-11-12  1780.10\n",
       "1 2019-11-11  1771.65\n",
       "2 2019-11-08  1785.88\n",
       "3 2019-11-07  1788.20\n",
       "4 2019-11-06  1795.77"
      ]
     },
     "execution_count": 17,
     "metadata": {},
     "output_type": "execute_result"
    }
   ],
   "source": [
    "excel_file1 = 'test.xlsx'\n",
    "test_data = pd.read_excel(excel_file1)\n",
    "(test_data.head())\n"
   ]
  },
  {
   "cell_type": "code",
   "execution_count": 18,
   "metadata": {},
   "outputs": [
    {
     "data": {
      "text/html": [
       "<div>\n",
       "<style scoped>\n",
       "    .dataframe tbody tr th:only-of-type {\n",
       "        vertical-align: middle;\n",
       "    }\n",
       "\n",
       "    .dataframe tbody tr th {\n",
       "        vertical-align: top;\n",
       "    }\n",
       "\n",
       "    .dataframe thead th {\n",
       "        text-align: right;\n",
       "    }\n",
       "</style>\n",
       "<table border=\"1\" class=\"dataframe\">\n",
       "  <thead>\n",
       "    <tr style=\"text-align: right;\">\n",
       "      <th></th>\n",
       "      <th>date</th>\n",
       "      <th>close</th>\n",
       "    </tr>\n",
       "  </thead>\n",
       "  <tbody>\n",
       "    <tr>\n",
       "      <td>249</td>\n",
       "      <td>2018-11-14</td>\n",
       "      <td>1599.01</td>\n",
       "    </tr>\n",
       "    <tr>\n",
       "      <td>248</td>\n",
       "      <td>2018-11-15</td>\n",
       "      <td>1619.44</td>\n",
       "    </tr>\n",
       "    <tr>\n",
       "      <td>247</td>\n",
       "      <td>2018-11-16</td>\n",
       "      <td>1593.41</td>\n",
       "    </tr>\n",
       "    <tr>\n",
       "      <td>246</td>\n",
       "      <td>2018-11-19</td>\n",
       "      <td>1512.29</td>\n",
       "    </tr>\n",
       "    <tr>\n",
       "      <td>245</td>\n",
       "      <td>2018-11-20</td>\n",
       "      <td>1495.46</td>\n",
       "    </tr>\n",
       "    <tr>\n",
       "      <td>244</td>\n",
       "      <td>2018-11-21</td>\n",
       "      <td>1516.73</td>\n",
       "    </tr>\n",
       "    <tr>\n",
       "      <td>243</td>\n",
       "      <td>2018-11-23</td>\n",
       "      <td>1502.06</td>\n",
       "    </tr>\n",
       "    <tr>\n",
       "      <td>242</td>\n",
       "      <td>2018-11-26</td>\n",
       "      <td>1581.33</td>\n",
       "    </tr>\n",
       "    <tr>\n",
       "      <td>241</td>\n",
       "      <td>2018-11-27</td>\n",
       "      <td>1581.42</td>\n",
       "    </tr>\n",
       "    <tr>\n",
       "      <td>240</td>\n",
       "      <td>2018-11-28</td>\n",
       "      <td>1677.75</td>\n",
       "    </tr>\n",
       "    <tr>\n",
       "      <td>239</td>\n",
       "      <td>2018-11-29</td>\n",
       "      <td>1673.57</td>\n",
       "    </tr>\n",
       "    <tr>\n",
       "      <td>238</td>\n",
       "      <td>2018-11-30</td>\n",
       "      <td>1690.17</td>\n",
       "    </tr>\n",
       "  </tbody>\n",
       "</table>\n",
       "</div>"
      ],
      "text/plain": [
       "          date    close\n",
       "249 2018-11-14  1599.01\n",
       "248 2018-11-15  1619.44\n",
       "247 2018-11-16  1593.41\n",
       "246 2018-11-19  1512.29\n",
       "245 2018-11-20  1495.46\n",
       "244 2018-11-21  1516.73\n",
       "243 2018-11-23  1502.06\n",
       "242 2018-11-26  1581.33\n",
       "241 2018-11-27  1581.42\n",
       "240 2018-11-28  1677.75\n",
       "239 2018-11-29  1673.57\n",
       "238 2018-11-30  1690.17"
      ]
     },
     "execution_count": 18,
     "metadata": {},
     "output_type": "execute_result"
    }
   ],
   "source": [
    "data1 = test_data.sort_values(by='date')\n",
    "(data1.head(12))"
   ]
  },
  {
   "cell_type": "code",
   "execution_count": 19,
   "metadata": {},
   "outputs": [],
   "source": [
    "data1 = data1.drop('date',axis = 1)"
   ]
  },
  {
   "cell_type": "code",
   "execution_count": 20,
   "metadata": {},
   "outputs": [
    {
     "data": {
      "text/html": [
       "<div>\n",
       "<style scoped>\n",
       "    .dataframe tbody tr th:only-of-type {\n",
       "        vertical-align: middle;\n",
       "    }\n",
       "\n",
       "    .dataframe tbody tr th {\n",
       "        vertical-align: top;\n",
       "    }\n",
       "\n",
       "    .dataframe thead th {\n",
       "        text-align: right;\n",
       "    }\n",
       "</style>\n",
       "<table border=\"1\" class=\"dataframe\">\n",
       "  <thead>\n",
       "    <tr style=\"text-align: right;\">\n",
       "      <th></th>\n",
       "      <th>close</th>\n",
       "    </tr>\n",
       "  </thead>\n",
       "  <tbody>\n",
       "    <tr>\n",
       "      <td>249</td>\n",
       "      <td>1599.01</td>\n",
       "    </tr>\n",
       "    <tr>\n",
       "      <td>248</td>\n",
       "      <td>1619.44</td>\n",
       "    </tr>\n",
       "    <tr>\n",
       "      <td>247</td>\n",
       "      <td>1593.41</td>\n",
       "    </tr>\n",
       "    <tr>\n",
       "      <td>246</td>\n",
       "      <td>1512.29</td>\n",
       "    </tr>\n",
       "    <tr>\n",
       "      <td>245</td>\n",
       "      <td>1495.46</td>\n",
       "    </tr>\n",
       "  </tbody>\n",
       "</table>\n",
       "</div>"
      ],
      "text/plain": [
       "       close\n",
       "249  1599.01\n",
       "248  1619.44\n",
       "247  1593.41\n",
       "246  1512.29\n",
       "245  1495.46"
      ]
     },
     "execution_count": 20,
     "metadata": {},
     "output_type": "execute_result"
    }
   ],
   "source": [
    "(data1.head())"
   ]
  },
  {
   "cell_type": "code",
   "execution_count": 21,
   "metadata": {},
   "outputs": [],
   "source": [
    "test_set = data1.iloc[:,0:1].values"
   ]
  },
  {
   "cell_type": "code",
   "execution_count": 22,
   "metadata": {},
   "outputs": [
    {
     "data": {
      "text/plain": [
       "array([[1599.01],\n",
       "       [1619.44],\n",
       "       [1593.41],\n",
       "       [1512.29],\n",
       "       [1495.46],\n",
       "       [1516.73],\n",
       "       [1502.06],\n",
       "       [1581.33],\n",
       "       [1581.42],\n",
       "       [1677.75],\n",
       "       [1673.57],\n",
       "       [1690.17],\n",
       "       [1772.36],\n",
       "       [1668.4 ],\n",
       "       [1699.19],\n",
       "       [1629.13],\n",
       "       [1641.03],\n",
       "       [1643.24],\n",
       "       [1663.54],\n",
       "       [1658.38],\n",
       "       [1591.91],\n",
       "       [1520.91],\n",
       "       [1551.48],\n",
       "       [1495.08],\n",
       "       [1460.83],\n",
       "       [1377.45],\n",
       "       [1343.96],\n",
       "       [1470.9 ],\n",
       "       [1461.64],\n",
       "       [1478.02],\n",
       "       [1501.97],\n",
       "       [1539.13],\n",
       "       [1500.28],\n",
       "       [1575.39],\n",
       "       [1629.51],\n",
       "       [1656.58],\n",
       "       [1659.42],\n",
       "       [1656.22],\n",
       "       [1640.56],\n",
       "       [1617.21],\n",
       "       [1674.56],\n",
       "       [1683.78],\n",
       "       [1693.22],\n",
       "       [1696.2 ],\n",
       "       [1632.17],\n",
       "       [1640.02],\n",
       "       [1654.93],\n",
       "       [1670.57],\n",
       "       [1637.89],\n",
       "       [1593.88],\n",
       "       [1670.43],\n",
       "       [1718.73],\n",
       "       [1626.23],\n",
       "       [1633.31],\n",
       "       [1658.81],\n",
       "       [1640.26],\n",
       "       [1614.37],\n",
       "       [1588.22],\n",
       "       [1591.  ],\n",
       "       [1638.01],\n",
       "       [1640.  ],\n",
       "       [1622.65],\n",
       "       [1607.95],\n",
       "       [1627.58],\n",
       "       [1622.1 ],\n",
       "       [1619.44],\n",
       "       [1631.56],\n",
       "       [1633.  ],\n",
       "       [1636.4 ],\n",
       "       [1641.09],\n",
       "       [1639.83],\n",
       "       [1671.73],\n",
       "       [1696.17],\n",
       "       [1692.43],\n",
       "       [1668.95],\n",
       "       [1625.95],\n",
       "       [1620.8 ],\n",
       "       [1670.62],\n",
       "       [1673.1 ],\n",
       "       [1690.81],\n",
       "       [1686.22],\n",
       "       [1712.36],\n",
       "       [1742.15],\n",
       "       [1761.85],\n",
       "       [1797.27],\n",
       "       [1819.26],\n",
       "       [1764.77],\n",
       "       [1774.26],\n",
       "       [1783.76],\n",
       "       [1765.7 ],\n",
       "       [1773.42],\n",
       "       [1780.75],\n",
       "       [1814.19],\n",
       "       [1813.98],\n",
       "       [1820.7 ],\n",
       "       [1818.86],\n",
       "       [1837.28],\n",
       "       [1849.86],\n",
       "       [1835.84],\n",
       "       [1847.33],\n",
       "       [1844.07],\n",
       "       [1843.06],\n",
       "       [1844.87],\n",
       "       [1863.04],\n",
       "       [1864.82],\n",
       "       [1861.69],\n",
       "       [1887.31],\n",
       "       [1923.77],\n",
       "       [1901.75],\n",
       "       [1902.25],\n",
       "       [1950.63],\n",
       "       [1938.43],\n",
       "       [1926.52],\n",
       "       [1911.52],\n",
       "       [1900.82],\n",
       "       [1962.46],\n",
       "       [1950.55],\n",
       "       [1921.  ],\n",
       "       [1917.77],\n",
       "       [1899.87],\n",
       "       [1889.98],\n",
       "       [1822.68],\n",
       "       [1840.12],\n",
       "       [1871.15],\n",
       "       [1907.57],\n",
       "       [1869.  ],\n",
       "       [1858.97],\n",
       "       [1857.52],\n",
       "       [1859.68],\n",
       "       [1815.48],\n",
       "       [1823.28],\n",
       "       [1836.43],\n",
       "       [1819.19],\n",
       "       [1816.32],\n",
       "       [1775.07],\n",
       "       [1692.69],\n",
       "       [1729.56],\n",
       "       [1738.5 ],\n",
       "       [1754.36],\n",
       "       [1804.03],\n",
       "       [1860.63],\n",
       "       [1863.7 ],\n",
       "       [1855.32],\n",
       "       [1870.3 ],\n",
       "       [1869.67],\n",
       "       [1886.03],\n",
       "       [1901.37],\n",
       "       [1908.79],\n",
       "       [1918.19],\n",
       "       [1911.3 ],\n",
       "       [1913.9 ],\n",
       "       [1878.27],\n",
       "       [1897.83],\n",
       "       [1904.28],\n",
       "       [1893.63],\n",
       "       [1922.19],\n",
       "       [1934.31],\n",
       "       [1939.  ],\n",
       "       [1942.91],\n",
       "       [1952.32],\n",
       "       [1988.3 ],\n",
       "       [2017.41],\n",
       "       [2001.07],\n",
       "       [2011.  ],\n",
       "       [2020.99],\n",
       "       [2009.9 ],\n",
       "       [1992.03],\n",
       "       [1977.9 ],\n",
       "       [1964.52],\n",
       "       [1985.63],\n",
       "       [1994.49],\n",
       "       [2000.81],\n",
       "       [1973.82],\n",
       "       [1943.05],\n",
       "       [1912.45],\n",
       "       [1898.53],\n",
       "       [1866.78],\n",
       "       [1855.32],\n",
       "       [1823.24],\n",
       "       [1765.13],\n",
       "       [1787.83],\n",
       "       [1793.4 ],\n",
       "       [1832.89],\n",
       "       [1807.58],\n",
       "       [1784.92],\n",
       "       [1824.34],\n",
       "       [1762.96],\n",
       "       [1776.12],\n",
       "       [1792.57],\n",
       "       [1816.12],\n",
       "       [1801.38],\n",
       "       [1823.54],\n",
       "       [1805.6 ],\n",
       "       [1749.62],\n",
       "       [1768.87],\n",
       "       [1761.83],\n",
       "       [1764.25],\n",
       "       [1786.4 ],\n",
       "       [1776.29],\n",
       "       [1789.84],\n",
       "       [1800.62],\n",
       "       [1840.72],\n",
       "       [1833.51],\n",
       "       [1831.35],\n",
       "       [1820.55],\n",
       "       [1822.99],\n",
       "       [1843.55],\n",
       "       [1839.34],\n",
       "       [1807.84],\n",
       "       [1822.55],\n",
       "       [1817.46],\n",
       "       [1821.5 ],\n",
       "       [1794.16],\n",
       "       [1785.3 ],\n",
       "       [1741.61],\n",
       "       [1768.33],\n",
       "       [1739.84],\n",
       "       [1725.45],\n",
       "       [1735.91],\n",
       "       [1735.65],\n",
       "       [1713.23],\n",
       "       [1724.42],\n",
       "       [1739.65],\n",
       "       [1732.66],\n",
       "       [1705.51],\n",
       "       [1721.99],\n",
       "       [1720.26],\n",
       "       [1731.92],\n",
       "       [1736.43],\n",
       "       [1767.38],\n",
       "       [1777.43],\n",
       "       [1787.48],\n",
       "       [1757.51],\n",
       "       [1785.66],\n",
       "       [1765.73],\n",
       "       [1762.17],\n",
       "       [1780.78],\n",
       "       [1761.33],\n",
       "       [1777.08],\n",
       "       [1762.71],\n",
       "       [1779.99],\n",
       "       [1776.66],\n",
       "       [1791.44],\n",
       "       [1804.66],\n",
       "       [1801.71],\n",
       "       [1795.77],\n",
       "       [1788.2 ],\n",
       "       [1785.88],\n",
       "       [1771.65],\n",
       "       [1780.1 ]])"
      ]
     },
     "execution_count": 22,
     "metadata": {},
     "output_type": "execute_result"
    }
   ],
   "source": [
    "test_set\n"
   ]
  },
  {
   "cell_type": "code",
   "execution_count": 23,
   "metadata": {},
   "outputs": [],
   "source": [
    "test_scaled_data = scaler.fit_transform(test_set)"
   ]
  },
  {
   "cell_type": "code",
   "execution_count": 26,
   "metadata": {},
   "outputs": [
    {
     "data": {
      "text/plain": [
       "array([[0.3767189 ],\n",
       "       [0.40689482],\n",
       "       [0.36844748],\n",
       "       [0.24863005],\n",
       "       [0.22377147],\n",
       "       [0.2551881 ],\n",
       "       [0.23351993],\n",
       "       [0.35060485],\n",
       "       [0.35073778],\n",
       "       [0.49302099],\n",
       "       [0.48684696],\n",
       "       [0.51136582],\n",
       "       [0.63276369],\n",
       "       [0.47921067],\n",
       "       [0.52468871],\n",
       "       [0.42120733],\n",
       "       [0.4387841 ],\n",
       "       [0.44204836],\n",
       "       [0.47203226],\n",
       "       [0.46441074],\n",
       "       [0.36623192],\n",
       "       [0.26136213],\n",
       "       [0.30651522],\n",
       "       [0.2232102 ],\n",
       "       [0.1726216 ],\n",
       "       [0.04946605],\n",
       "       [0.        ],\n",
       "       [0.18749538],\n",
       "       [0.173818  ],\n",
       "       [0.1980119 ],\n",
       "       [0.233387  ],\n",
       "       [0.28827378],\n",
       "       [0.2308908 ],\n",
       "       [0.34183123],\n",
       "       [0.42176861],\n",
       "       [0.46175206],\n",
       "       [0.46594686],\n",
       "       [0.46122033],\n",
       "       [0.43808989],\n",
       "       [0.40360102],\n",
       "       [0.48830923],\n",
       "       [0.50192754],\n",
       "       [0.51587079],\n",
       "       [0.52027237],\n",
       "       [0.42569753],\n",
       "       [0.43729229],\n",
       "       [0.45931495],\n",
       "       [0.48241585],\n",
       "       [0.4341462 ],\n",
       "       [0.36914169],\n",
       "       [0.48220906],\n",
       "       [0.55355006],\n",
       "       [0.41692392],\n",
       "       [0.42738136],\n",
       "       [0.46504586],\n",
       "       [0.43764678],\n",
       "       [0.39940623],\n",
       "       [0.36078165],\n",
       "       [0.36488782],\n",
       "       [0.43432344],\n",
       "       [0.43726275],\n",
       "       [0.41163612],\n",
       "       [0.38992364],\n",
       "       [0.41891792],\n",
       "       [0.41082374],\n",
       "       [0.40689482],\n",
       "       [0.42479654],\n",
       "       [0.42692347],\n",
       "       [0.43194541],\n",
       "       [0.43887272],\n",
       "       [0.43701165],\n",
       "       [0.48412921],\n",
       "       [0.52022805],\n",
       "       [0.51470393],\n",
       "       [0.48002304],\n",
       "       [0.41651035],\n",
       "       [0.40890359],\n",
       "       [0.4824897 ],\n",
       "       [0.48615276],\n",
       "       [0.51231112],\n",
       "       [0.50553151],\n",
       "       [0.54414132],\n",
       "       [0.58814233],\n",
       "       [0.61724   ],\n",
       "       [0.66955674],\n",
       "       [0.70203684],\n",
       "       [0.62155296],\n",
       "       [0.63557006],\n",
       "       [0.64960194],\n",
       "       [0.62292661],\n",
       "       [0.63432935],\n",
       "       [0.64515605],\n",
       "       [0.69454825],\n",
       "       [0.69423807],\n",
       "       [0.70416377],\n",
       "       [0.70144602],\n",
       "       [0.72865309],\n",
       "       [0.74723424],\n",
       "       [0.72652615],\n",
       "       [0.74349733],\n",
       "       [0.73868219],\n",
       "       [0.73719038],\n",
       "       [0.73986382],\n",
       "       [0.76670162],\n",
       "       [0.76933075],\n",
       "       [0.76470762],\n",
       "       [0.80254937],\n",
       "       [0.85640223],\n",
       "       [0.82387782],\n",
       "       [0.82461634],\n",
       "       [0.89607551],\n",
       "       [0.87805563],\n",
       "       [0.86046409],\n",
       "       [0.83830849],\n",
       "       [0.82250417],\n",
       "       [0.91354888],\n",
       "       [0.89595734],\n",
       "       [0.85231083],\n",
       "       [0.84753999],\n",
       "       [0.82110099],\n",
       "       [0.80649307],\n",
       "       [0.70708831],\n",
       "       [0.73284788],\n",
       "       [0.77868041],\n",
       "       [0.83247419],\n",
       "       [0.77550478],\n",
       "       [0.76069007],\n",
       "       [0.75854837],\n",
       "       [0.76173877],\n",
       "       [0.69645363],\n",
       "       [0.70797454],\n",
       "       [0.7273976 ],\n",
       "       [0.70193344],\n",
       "       [0.69769434],\n",
       "       [0.63676647],\n",
       "       [0.51508796],\n",
       "       [0.5695464 ],\n",
       "       [0.58275113],\n",
       "       [0.60617698],\n",
       "       [0.67954153],\n",
       "       [0.76314196],\n",
       "       [0.76767647],\n",
       "       [0.75529888],\n",
       "       [0.77742493],\n",
       "       [0.77649439],\n",
       "       [0.80065876],\n",
       "       [0.82331654],\n",
       "       [0.83427618],\n",
       "       [0.84816035],\n",
       "       [0.83798355],\n",
       "       [0.84182385],\n",
       "       [0.78919693],\n",
       "       [0.81808782],\n",
       "       [0.82761473],\n",
       "       [0.81188426],\n",
       "       [0.85406851],\n",
       "       [0.87197022],\n",
       "       [0.87889754],\n",
       "       [0.88467276],\n",
       "       [0.8985717 ],\n",
       "       [0.95171558],\n",
       "       [0.9947122 ],\n",
       "       [0.97057737],\n",
       "       [0.98524438],\n",
       "       [1.        ],\n",
       "       [0.98361963],\n",
       "       [0.95722494],\n",
       "       [0.93635437],\n",
       "       [0.91659158],\n",
       "       [0.94777189],\n",
       "       [0.96085846],\n",
       "       [0.97019334],\n",
       "       [0.93032805],\n",
       "       [0.88487955],\n",
       "       [0.83968214],\n",
       "       [0.81912175],\n",
       "       [0.77222575],\n",
       "       [0.75529888],\n",
       "       [0.70791545],\n",
       "       [0.62208469],\n",
       "       [0.65561349],\n",
       "       [0.6638406 ],\n",
       "       [0.72216888],\n",
       "       [0.68478502],\n",
       "       [0.6513153 ],\n",
       "       [0.7095402 ],\n",
       "       [0.61887952],\n",
       "       [0.63831736],\n",
       "       [0.66261466],\n",
       "       [0.69739893],\n",
       "       [0.67562737],\n",
       "       [0.70835857],\n",
       "       [0.68186048],\n",
       "       [0.59917581],\n",
       "       [0.62760882],\n",
       "       [0.61721046],\n",
       "       [0.6207849 ],\n",
       "       [0.65350132],\n",
       "       [0.63856845],\n",
       "       [0.65858234],\n",
       "       [0.67450482],\n",
       "       [0.7337341 ],\n",
       "       [0.72308465],\n",
       "       [0.71989424],\n",
       "       [0.70394222],\n",
       "       [0.70754619],\n",
       "       [0.73791412],\n",
       "       [0.73169579],\n",
       "       [0.68516905],\n",
       "       [0.7068963 ],\n",
       "       [0.69937817],\n",
       "       [0.70534541],\n",
       "       [0.66496315],\n",
       "       [0.65187658],\n",
       "       [0.58734473],\n",
       "       [0.62681122],\n",
       "       [0.58473037],\n",
       "       [0.56347577],\n",
       "       [0.5789256 ],\n",
       "       [0.57854157],\n",
       "       [0.54542635],\n",
       "       [0.56195442],\n",
       "       [0.58444973],\n",
       "       [0.57412522],\n",
       "       [0.5340236 ],\n",
       "       [0.55836521],\n",
       "       [0.55580993],\n",
       "       [0.57303221],\n",
       "       [0.57969366],\n",
       "       [0.62540803],\n",
       "       [0.64025228],\n",
       "       [0.65509652],\n",
       "       [0.61082965],\n",
       "       [0.65240831],\n",
       "       [0.62297092],\n",
       "       [0.61771266],\n",
       "       [0.64520036],\n",
       "       [0.61647194],\n",
       "       [0.63973531],\n",
       "       [0.61851026],\n",
       "       [0.6440335 ],\n",
       "       [0.63911496],\n",
       "       [0.6609456 ],\n",
       "       [0.68047206],\n",
       "       [0.6761148 ],\n",
       "       [0.66734118],\n",
       "       [0.65615999],\n",
       "       [0.65273326],\n",
       "       [0.63171499],\n",
       "       [0.64419597]])"
      ]
     },
     "execution_count": 26,
     "metadata": {},
     "output_type": "execute_result"
    }
   ],
   "source": [
    "test_scaled_data"
   ]
  },
  {
   "cell_type": "code",
   "execution_count": 27,
   "metadata": {},
   "outputs": [],
   "source": [
    "X_test = []\n",
    "y_test = []\n",
    "for i in range(11, 250):\n",
    "    X_test.append(test_scaled_data[i-11:i, 0])\n",
    "    y_test.append(test_scaled_data[i, 0])\n",
    "X_test, y_test = np.array(X_test), np.array(y_test)"
   ]
  },
  {
   "cell_type": "code",
   "execution_count": 28,
   "metadata": {},
   "outputs": [
    {
     "data": {
      "text/plain": [
       "array([0.3767189 , 0.40689482, 0.36844748, 0.24863005, 0.22377147,\n",
       "       0.2551881 , 0.23351993, 0.35060485, 0.35073778, 0.49302099,\n",
       "       0.48684696])"
      ]
     },
     "execution_count": 28,
     "metadata": {},
     "output_type": "execute_result"
    }
   ],
   "source": [
    "X_test[0]"
   ]
  },
  {
   "cell_type": "code",
   "execution_count": 33,
   "metadata": {},
   "outputs": [],
   "source": [
    "X_test = np.reshape(X_test, (X_test.shape[0], X_test.shape[1], 1))"
   ]
  },
  {
   "cell_type": "code",
   "execution_count": 34,
   "metadata": {},
   "outputs": [
    {
     "data": {
      "text/plain": [
       "(239, 11, 1)"
      ]
     },
     "execution_count": 34,
     "metadata": {},
     "output_type": "execute_result"
    }
   ],
   "source": [
    "X_test.shape"
   ]
  },
  {
   "cell_type": "code",
   "execution_count": 35,
   "metadata": {},
   "outputs": [
    {
     "name": "stdout",
     "output_type": "stream",
     "text": [
      "239/239 [==============================] - 0s 644us/step\n"
     ]
    },
    {
     "data": {
      "text/plain": [
       "0.011487262251774223"
      ]
     },
     "execution_count": 35,
     "metadata": {},
     "output_type": "execute_result"
    }
   ],
   "source": [
    "model.evaluate(X_test,y_test)"
   ]
  },
  {
   "cell_type": "code",
   "execution_count": null,
   "metadata": {},
   "outputs": [],
   "source": []
  }
 ],
 "metadata": {
  "kernelspec": {
   "display_name": "Python 3",
   "language": "python",
   "name": "python3"
  },
  "language_info": {
   "codemirror_mode": {
    "name": "ipython",
    "version": 3
   },
   "file_extension": ".py",
   "mimetype": "text/x-python",
   "name": "python",
   "nbconvert_exporter": "python",
   "pygments_lexer": "ipython3",
   "version": "3.7.4"
  }
 },
 "nbformat": 4,
 "nbformat_minor": 2
}
